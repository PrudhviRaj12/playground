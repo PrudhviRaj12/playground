{
  "nbformat": 4,
  "nbformat_minor": 0,
  "metadata": {
    "colab": {
      "provenance": [],
      "authorship_tag": "ABX9TyO56SVttlPtAOGaha0Ba3+x",
      "include_colab_link": true
    },
    "kernelspec": {
      "name": "python3",
      "display_name": "Python 3"
    },
    "language_info": {
      "name": "python"
    }
  },
  "cells": [
    {
      "cell_type": "markdown",
      "metadata": {
        "id": "view-in-github",
        "colab_type": "text"
      },
      "source": [
        "<a href=\"https://colab.research.google.com/github/PrudhviRaj12/playground/blob/main/scraper.ipynb\" target=\"_parent\"><img src=\"https://colab.research.google.com/assets/colab-badge.svg\" alt=\"Open In Colab\"/></a>"
      ]
    },
    {
      "cell_type": "code",
      "execution_count": 1,
      "metadata": {
        "id": "m2nn6q9yBjDs",
        "colab": {
          "base_uri": "https://localhost:8080/"
        },
        "outputId": "ae00cdb0-9290-4a91-feb7-e8d53ff4af00"
      },
      "outputs": [
        {
          "output_type": "stream",
          "name": "stdout",
          "text": [
            "Collecting scrapfly-sdk[speedups]\n",
            "  Downloading scrapfly_sdk-0.8.15-py3-none-any.whl (30 kB)\n",
            "Requirement already satisfied: decorator>=4.2.0 in /usr/local/lib/python3.10/dist-packages (from scrapfly-sdk[speedups]) (4.4.2)\n",
            "Requirement already satisfied: requests>=2.25.0 in /usr/local/lib/python3.10/dist-packages (from scrapfly-sdk[speedups]) (2.31.0)\n",
            "Requirement already satisfied: python-dateutil<3.0.0,>=2.1 in /usr/local/lib/python3.10/dist-packages (from scrapfly-sdk[speedups]) (2.8.2)\n",
            "Collecting loguru>=0.5 (from scrapfly-sdk[speedups])\n",
            "  Downloading loguru-0.7.2-py3-none-any.whl (62 kB)\n",
            "\u001b[2K     \u001b[90m━━━━━━━━━━━━━━━━━━━━━━━━━━━━━━━━━━━━━━━━\u001b[0m \u001b[32m62.5/62.5 kB\u001b[0m \u001b[31m3.1 MB/s\u001b[0m eta \u001b[36m0:00:00\u001b[0m\n",
            "\u001b[?25hRequirement already satisfied: urllib3>=1.26.0 in /usr/local/lib/python3.10/dist-packages (from scrapfly-sdk[speedups]) (2.0.7)\n",
            "Collecting backoff>=1.10.0 (from scrapfly-sdk[speedups])\n",
            "  Downloading backoff-2.2.1-py3-none-any.whl (15 kB)\n",
            "Collecting brotlipy (from scrapfly-sdk[speedups])\n",
            "  Downloading brotlipy-0.7.0-cp35-abi3-manylinux2010_x86_64.whl (1.1 MB)\n",
            "\u001b[2K     \u001b[90m━━━━━━━━━━━━━━━━━━━━━━━━━━━━━━━━━━━━━━━━\u001b[0m \u001b[32m1.1/1.1 MB\u001b[0m \u001b[31m13.6 MB/s\u001b[0m eta \u001b[36m0:00:00\u001b[0m\n",
            "\u001b[?25hRequirement already satisfied: msgpack in /usr/local/lib/python3.10/dist-packages (from scrapfly-sdk[speedups]) (1.0.8)\n",
            "Requirement already satisfied: six>=1.5 in /usr/local/lib/python3.10/dist-packages (from python-dateutil<3.0.0,>=2.1->scrapfly-sdk[speedups]) (1.16.0)\n",
            "Requirement already satisfied: charset-normalizer<4,>=2 in /usr/local/lib/python3.10/dist-packages (from requests>=2.25.0->scrapfly-sdk[speedups]) (3.3.2)\n",
            "Requirement already satisfied: idna<4,>=2.5 in /usr/local/lib/python3.10/dist-packages (from requests>=2.25.0->scrapfly-sdk[speedups]) (3.6)\n",
            "Requirement already satisfied: certifi>=2017.4.17 in /usr/local/lib/python3.10/dist-packages (from requests>=2.25.0->scrapfly-sdk[speedups]) (2024.2.2)\n",
            "Requirement already satisfied: cffi>=1.0.0 in /usr/local/lib/python3.10/dist-packages (from brotlipy->scrapfly-sdk[speedups]) (1.16.0)\n",
            "Requirement already satisfied: pycparser in /usr/local/lib/python3.10/dist-packages (from cffi>=1.0.0->brotlipy->scrapfly-sdk[speedups]) (2.21)\n",
            "Installing collected packages: loguru, backoff, scrapfly-sdk, brotlipy\n",
            "Successfully installed backoff-2.2.1 brotlipy-0.7.0 loguru-0.7.2 scrapfly-sdk-0.8.15\n"
          ]
        }
      ],
      "source": [
        "!pip install 'scrapfly-sdk[speedups]'"
      ]
    },
    {
      "cell_type": "code",
      "source": [
        "from scrapfly import ScrapeConfig, ScrapflyClient, ScrapeApiResponse\n",
        "\n",
        "scrapfly = ScrapflyClient(key='KEY')\n"
      ],
      "metadata": {
        "id": "S2IOzgbnDseZ"
      },
      "execution_count": 2,
      "outputs": []
    },
    {
      "cell_type": "code",
      "source": [
        "api_response:ScrapeApiResponse = scrapfly.scrape(scrape_config=ScrapeConfig(url='https://www.cyndx.com'))"
      ],
      "metadata": {
        "id": "K2Y1OshJD4pM"
      },
      "execution_count": 4,
      "outputs": []
    },
    {
      "cell_type": "code",
      "source": [
        "ScrapeConfig"
      ],
      "metadata": {
        "colab": {
          "base_uri": "https://localhost:8080/",
          "height": 312
        },
        "id": "5hzziX6cFrtW",
        "outputId": "b7939552-a458-4ffc-cf2c-7577b2d12d33"
      },
      "execution_count": 21,
      "outputs": [
        {
          "output_type": "execute_result",
          "data": {
            "text/plain": [
              "scrapfly.scrape_config.ScrapeConfig"
            ],
            "text/html": [
              "<div style=\"max-width:800px; border: 1px solid var(--colab-border-color);\"><style>\n",
              "      pre.function-repr-contents {\n",
              "        overflow-x: auto;\n",
              "        padding: 8px 12px;\n",
              "        max-height: 500px;\n",
              "      }\n",
              "\n",
              "      pre.function-repr-contents.function-repr-contents-collapsed {\n",
              "        cursor: pointer;\n",
              "        max-height: 100px;\n",
              "      }\n",
              "    </style>\n",
              "    <pre style=\"white-space: initial; background:\n",
              "         var(--colab-secondary-surface-color); padding: 8px 12px;\n",
              "         border-bottom: 1px solid var(--colab-border-color);\"><b>scrapfly.scrape_config.ScrapeConfig</b><br/>def __init__(url: str, retry: bool=True, method: str=&#x27;GET&#x27;, country: Optional[str]=None, render_js: bool=False, cache: bool=False, cache_clear: bool=False, ssl: bool=False, dns: bool=False, asp: bool=False, debug: bool=False, raise_on_upstream_error: bool=True, cache_ttl: Optional[int]=None, proxy_pool: Optional[str]=None, session: Optional[str]=None, tags: Optional[Set[str]]=None, correlation_id: Optional[str]=None, cookies: Optional[CaseInsensitiveDict]=None, body: Optional[str]=None, data: Optional[Dict]=None, headers: Optional[Union[CaseInsensitiveDict, Dict[str, str]]]=None, js: str=None, rendering_wait: int=None, wait_for_selector: Optional[str]=None, screenshots: Optional[Dict]=None, session_sticky_proxy: Optional[bool]=None, webhook: Optional[str]=None, timeout: Optional[int]=None, js_scenario: Optional[Dict]=None, extract: Optional[Dict]=None, os: Optional[str]=None, lang: Optional[List[str]]=None, auto_scroll: Optional[bool]=None, cost_budget: Optional[int]=None)</pre><pre class=\"function-repr-contents function-repr-contents-collapsed\" style=\"\"><a class=\"filepath\" style=\"display:none\" href=\"#\">/usr/local/lib/python3.10/dist-packages/scrapfly/scrape_config.py</a>&lt;no docstring&gt;</pre>\n",
              "      <script>\n",
              "      if (google.colab.kernel.accessAllowed && google.colab.files && google.colab.files.view) {\n",
              "        for (const element of document.querySelectorAll('.filepath')) {\n",
              "          element.style.display = 'block'\n",
              "          element.onclick = (event) => {\n",
              "            event.preventDefault();\n",
              "            event.stopPropagation();\n",
              "            google.colab.files.view(element.textContent, 13);\n",
              "          };\n",
              "        }\n",
              "      }\n",
              "      for (const element of document.querySelectorAll('.function-repr-contents')) {\n",
              "        element.onclick = (event) => {\n",
              "          event.preventDefault();\n",
              "          event.stopPropagation();\n",
              "          element.classList.toggle('function-repr-contents-collapsed');\n",
              "        };\n",
              "      }\n",
              "      </script>\n",
              "      </div>"
            ]
          },
          "metadata": {},
          "execution_count": 21
        }
      ]
    },
    {
      "cell_type": "code",
      "source": [
        "!pip install bs4"
      ],
      "metadata": {
        "colab": {
          "base_uri": "https://localhost:8080/"
        },
        "id": "m7rnnRXqFdM8",
        "outputId": "20cbe5c0-1076-4d7f-fc64-f994f15afe55"
      },
      "execution_count": 14,
      "outputs": [
        {
          "output_type": "stream",
          "name": "stdout",
          "text": [
            "Collecting bs4\n",
            "  Downloading bs4-0.0.2-py2.py3-none-any.whl (1.2 kB)\n",
            "Requirement already satisfied: beautifulsoup4 in /usr/local/lib/python3.10/dist-packages (from bs4) (4.12.3)\n",
            "Requirement already satisfied: soupsieve>1.2 in /usr/local/lib/python3.10/dist-packages (from beautifulsoup4->bs4) (2.5)\n",
            "Installing collected packages: bs4\n",
            "Successfully installed bs4-0.0.2\n"
          ]
        }
      ]
    },
    {
      "cell_type": "code",
      "source": [
        "from bs4 import BeautifulSoup\n",
        "\n",
        "soup = BeautifulSoup(api_response.scrape_result['content'], 'html.parser')"
      ],
      "metadata": {
        "id": "07W0_v3UFheZ"
      },
      "execution_count": 16,
      "outputs": []
    },
    {
      "cell_type": "markdown",
      "source": [],
      "metadata": {
        "id": "jEb6TBTwGAIW"
      }
    },
    {
      "cell_type": "code",
      "source": [
        "level_1_links = [link.get('href') for link in soup.find_all('a', href=True)]"
      ],
      "metadata": {
        "id": "3U9E30XOD50d"
      },
      "execution_count": 24,
      "outputs": []
    },
    {
      "cell_type": "code",
      "source": [
        "level_1_links"
      ],
      "metadata": {
        "colab": {
          "base_uri": "https://localhost:8080/"
        },
        "id": "UZPL3NqFEDNP",
        "outputId": "bbb5cfcd-183f-4d2f-e707-f3dac870e1c3"
      },
      "execution_count": 25,
      "outputs": [
        {
          "output_type": "execute_result",
          "data": {
            "text/plain": [
              "['#content',\n",
              " 'https://www.cyndx.com/',\n",
              " 'https://www.cyndx.com/product/finder/',\n",
              " 'https://www.cyndx.com/product/raiser/',\n",
              " 'https://www.cyndx.com/product/owner/',\n",
              " 'https://www.cyndx.com/solutions/private-equity/',\n",
              " 'https://www.cyndx.com/solutions/investment-banks/',\n",
              " 'https://www.cyndx.com/solutions/venture-capitalists/',\n",
              " 'https://www.cyndx.com/solutions/corporate-development/',\n",
              " 'https://www.cyndx.com/solutions/business-services/',\n",
              " 'https://www.cyndx.com/product/starter-kit/',\n",
              " 'https://www.cyndx.com/features/chrome-extension',\n",
              " 'https://www.cyndx.com/product/valer/',\n",
              " 'https://www.cyndx.com/about/',\n",
              " 'https://www.cyndx.com/careers/',\n",
              " '/resources',\n",
              " 'https://app.cyndx.com/signin',\n",
              " '/contact/',\n",
              " 'https://www.cyndx.com/resources/author/muiread-heffernancyndx-com/',\n",
              " '/contact',\n",
              " 'https://www.cyndx.com/product/finder/',\n",
              " 'https://www.cyndx.com/product/finder/',\n",
              " 'https://www.cyndx.com/product/raiser/',\n",
              " '#tab-f8bb605769bb3dcf404',\n",
              " '#tab-ebeb603e4841323b178',\n",
              " '#tab-7e12963bcd8c9210f59',\n",
              " '#tab-f8bb605769bb3dcf404',\n",
              " '/product/finder/',\n",
              " '#tab-ebeb603e4841323b178',\n",
              " 'https://www.cyndx.com/product/raiser/',\n",
              " '#tab-7e12963bcd8c9210f59',\n",
              " 'https://www.cyndx.com/product/owner/',\n",
              " '#',\n",
              " '#',\n",
              " '#',\n",
              " '#',\n",
              " 'https://www.cyndx.com/resources/',\n",
              " 'https://www.cyndx.com/resources/blog/ai-due-diligence-deal-sourcing/',\n",
              " 'https://www.cyndx.com/resources/category/blog/',\n",
              " 'https://www.cyndx.com/resources/blog/ai-due-diligence-deal-sourcing/',\n",
              " 'https://www.cyndx.com/resources/blog/ai-due-diligence-deal-sourcing/',\n",
              " 'https://www.cyndx.com/resources/blog/find-investors-using-cyndx-raiser/',\n",
              " 'https://www.cyndx.com/resources/category/blog/',\n",
              " 'https://www.cyndx.com/resources/blog/find-investors-using-cyndx-raiser/',\n",
              " 'https://www.cyndx.com/resources/blog/find-investors-using-cyndx-raiser/',\n",
              " 'https://www.cyndx.com/resources/blog/due-diligence-checklist/',\n",
              " 'https://www.cyndx.com/resources/category/blog/',\n",
              " 'https://www.cyndx.com/resources/blog/due-diligence-checklist/',\n",
              " 'https://www.cyndx.com/resources/blog/due-diligence-checklist/',\n",
              " 'https://www.cyndx.com/resources/blog/capital-raising-tips-2024/',\n",
              " 'https://www.cyndx.com/resources/category/blog/',\n",
              " 'https://www.cyndx.com/resources/blog/capital-raising-tips-2024/',\n",
              " 'https://www.cyndx.com/resources/blog/capital-raising-tips-2024/',\n",
              " 'https://www.cyndx.com/resources/blog/startup-raising-capital-questions/',\n",
              " 'https://www.cyndx.com/resources/category/blog/',\n",
              " 'https://www.cyndx.com/resources/blog/startup-raising-capital-questions/',\n",
              " 'https://www.cyndx.com/resources/blog/startup-raising-capital-questions/',\n",
              " 'https://www.cyndx.com/resources/blog/business-valuation-factors/',\n",
              " 'https://www.cyndx.com/resources/category/blog/',\n",
              " 'https://www.cyndx.com/resources/blog/business-valuation-factors/',\n",
              " 'https://www.cyndx.com/resources/blog/business-valuation-factors/',\n",
              " 'https://www.cyndx.com/resources/blog/venture-capital-deal-sourcing-challenges/',\n",
              " 'https://www.cyndx.com/resources/category/blog/',\n",
              " 'https://www.cyndx.com/resources/blog/venture-capital-deal-sourcing-challenges/',\n",
              " 'https://www.cyndx.com/resources/blog/venture-capital-deal-sourcing-challenges/',\n",
              " 'https://www.cyndx.com/resources/blog/investment-banker-challenges/',\n",
              " 'https://www.cyndx.com/resources/category/blog/',\n",
              " 'https://www.cyndx.com/resources/blog/investment-banker-challenges/',\n",
              " 'https://www.cyndx.com/resources/blog/investment-banker-challenges/',\n",
              " 'https://www.cyndx.com/resources/blog/corporate-development-deal-sourcing-challenges/',\n",
              " 'https://www.cyndx.com/resources/category/blog/',\n",
              " 'https://www.cyndx.com/resources/blog/corporate-development-deal-sourcing-challenges/',\n",
              " 'https://www.cyndx.com/resources/blog/corporate-development-deal-sourcing-challenges/',\n",
              " 'https://www.cyndx.com/resources/blog/challenges-pe-deal-sourcing/',\n",
              " 'https://www.cyndx.com/resources/category/blog/',\n",
              " 'https://www.cyndx.com/resources/blog/challenges-pe-deal-sourcing/',\n",
              " 'https://www.cyndx.com/resources/blog/challenges-pe-deal-sourcing/',\n",
              " 'https://www.cyndx.com/resources/author/muiread-heffernancyndx-com/',\n",
              " '#collapse-1-1771',\n",
              " 'https://www.cyndx.com/resources/author/muiread-heffernancyndx-com/',\n",
              " '#collapse-1-1770',\n",
              " 'https://www.cyndx.com/resources/author/muiread-heffernancyndx-com/',\n",
              " '#collapse-1-1769',\n",
              " 'https://www.cyndx.com/resources/author/daksham-guglani-extcyndx-com/',\n",
              " '#collapse-1-6784',\n",
              " '/contact',\n",
              " 'https://www.linkedin.com/company/cyndx',\n",
              " 'https://twitter.com/CyndxNet',\n",
              " 'https://www.cyndx.com/product/finder/',\n",
              " 'https://www.cyndx.com/product/raiser/',\n",
              " 'https://www.cyndx.com/product/owner/',\n",
              " 'https://www.cyndx.com/features/chrome-extension/',\n",
              " 'https://www.cyndx.com/product/valer/',\n",
              " 'https://www.cyndx.com/solutions/private-equity/',\n",
              " 'https://www.cyndx.com/solutions/investment-banks/',\n",
              " 'https://www.cyndx.com/solutions/venture-capitalists/',\n",
              " 'https://www.cyndx.com/product/starter-kit/',\n",
              " 'https://www.cyndx.com/solutions/corporate-development/',\n",
              " 'https://www.cyndx.com/solutions/business-services/',\n",
              " 'https://www.cyndx.com/about/',\n",
              " 'https://www.cyndx.com/careers/',\n",
              " 'https://www.cyndx.com/resources/',\n",
              " 'https://www.cyndx.com/privacy/',\n",
              " 'https://www.cyndx.com/terms/',\n",
              " 'https://www.cyndx.com/california-do-not-track/',\n",
              " 'https://www.cyndx.com/cookie-policy/',\n",
              " '#',\n",
              " '#']"
            ]
          },
          "metadata": {},
          "execution_count": 25
        }
      ]
    },
    {
      "cell_type": "code",
      "source": [],
      "metadata": {
        "id": "qOrF7XQuF-mi"
      },
      "execution_count": null,
      "outputs": []
    }
  ]
}
